{
 "cells": [
  {
   "cell_type": "code",
   "execution_count": 21,
   "metadata": {},
   "outputs": [],
   "source": [
    "import pandas as pd\n",
    "from src.src import *"
   ]
  },
  {
   "cell_type": "code",
   "execution_count": 22,
   "metadata": {},
   "outputs": [],
   "source": [
    "import warnings\n",
    "warnings.filterwarnings('ignore')"
   ]
  },
  {
   "cell_type": "code",
   "execution_count": 23,
   "metadata": {},
   "outputs": [],
   "source": [
    "country_codes=pd.read_csv('data/country_codes.csv')"
   ]
  },
  {
   "cell_type": "code",
   "execution_count": 24,
   "metadata": {},
   "outputs": [],
   "source": [
    "indicators=['SP.DYN.CBRT.IN','SP.DYN.CDRT.IN','NY.GDP.MKTP.CD','NY.GDP.PCAP.CD']\n",
    "#Death rate, crude (per 1,000 people): SP.DYN.CDRT.IN\n",
    "#Birth rate, crude (per 1,000 people): SP.DYN.CBRT.IN\n",
    "#GDP (current US$): SP.DYN.CBRT.IN\n",
    "#Per capita GDP (current US$): SP.DYN.CBRT.IN\n",
    "\n",
    "countries=list(country_codes['alpha-2'])\n"
   ]
  },
  {
   "cell_type": "code",
   "execution_count": 25,
   "metadata": {},
   "outputs": [],
   "source": [
    "i=indicators[1]\n",
    "data1=get_data(i,countries)"
   ]
  },
  {
   "cell_type": "code",
   "execution_count": 26,
   "metadata": {},
   "outputs": [],
   "source": [
    "i=indicators[3]\n",
    "data2=get_data(i,countries)"
   ]
  },
  {
   "cell_type": "code",
   "execution_count": 28,
   "metadata": {},
   "outputs": [],
   "source": [
    "\n",
    "p=list(range(1,3))\n",
    "d=0\n",
    "q=list(range(1,5))\n",
    "\n",
    "resultado=get_df(data1,p,d,q)\n",
    "resultado=resultado.merge(country_codes[['name','alpha-2','sub-region']], how='inner',left_on=['country'],right_on=['alpha-2'])\n",
    "resultado.drop(labels='country',axis=1,inplace=True)\n",
    "resultado.to_csv('data/mortality_errors.csv', index=False)"
   ]
  },
  {
   "cell_type": "code",
   "execution_count": null,
   "metadata": {},
   "outputs": [],
   "source": [
    "\n",
    "p=list(range(1,3))\n",
    "d=0\n",
    "q=list(range(1,5))\n",
    "\n",
    "resultado=get_df(data2,p,d,q)\n",
    "resultado=resultado.merge(country_codes[['name','alpha-2','sub-region']], how='inner',left_on=['country'],right_on=['alpha-2'])\n",
    "resultado.drop(labels='country',axis=1,inplace=True)\n",
    "resultado.to_csv('data/gdp_errors.csv', index=False)"
   ]
  },
  {
   "cell_type": "code",
   "execution_count": null,
   "metadata": {},
   "outputs": [],
   "source": [
    "\n",
    "'''\n",
    "mortality_errors=pd.read_csv('data/mortality_errors.csv')\n",
    "gdp_errors=pd.read_csv('data/gdp_errors.csv')\n",
    "mortality_errors.rename(columns = {'error2020':'error2020m', 'error2015_2019':'error2015_2019m'}, inplace = True)\n",
    "gdp_errors.rename(columns = {'error2020':'error2020g', 'error2015_2019':'error2015_2019g'}, inplace = True)\n",
    "mortality_gdp=mortality_errors.merge(gdp_errors, how='inner',on=['name','sub-region','alpha-2'])\n",
    "mortality_gdp[['name','alpha-2','sub-region', 'error2015_2019m','error2020m','error2020g', 'error2015_2019g']].to_csv('data/mortality_gdp.csv')\n",
    "'''"
   ]
  },
  {
   "cell_type": "code",
   "execution_count": null,
   "metadata": {},
   "outputs": [],
   "source": []
  }
 ],
 "metadata": {
  "interpreter": {
   "hash": "c9f14bb629f036ea0aa6da563ab7059bf83822ae3a647bfaa85551ac6c781714"
  },
  "kernelspec": {
   "display_name": "Python 3.9.12 ('clase1')",
   "language": "python",
   "name": "python3"
  },
  "language_info": {
   "codemirror_mode": {
    "name": "ipython",
    "version": 3
   },
   "file_extension": ".py",
   "mimetype": "text/x-python",
   "name": "python",
   "nbconvert_exporter": "python",
   "pygments_lexer": "ipython3",
   "version": "3.9.12"
  },
  "orig_nbformat": 4
 },
 "nbformat": 4,
 "nbformat_minor": 2
}
