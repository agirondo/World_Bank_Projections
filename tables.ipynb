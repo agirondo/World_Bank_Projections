{
 "cells": [
  {
   "cell_type": "code",
   "execution_count": 1,
   "metadata": {},
   "outputs": [],
   "source": [
    "import pandas as pd\n",
    "from src.src import *"
   ]
  },
  {
   "cell_type": "code",
   "execution_count": 2,
   "metadata": {},
   "outputs": [],
   "source": [
    "country_codes=pd.read_csv('data/country_codes.csv')"
   ]
  },
  {
   "cell_type": "code",
   "execution_count": 4,
   "metadata": {},
   "outputs": [],
   "source": [
    "indicators=['SP.DYN.CBRT.IN','SP.DYN.CDRT.IN']\n",
    "#Death rate, crude (per 1,000 people): SP.DYN.CDRT.IN\n",
    "#Birth rate, crude (per 1,000 people): SP.DYN.CBRT.IN\n",
    "countries=list(country_codes['alpha-2'])\n"
   ]
  },
  {
   "cell_type": "code",
   "execution_count": 5,
   "metadata": {},
   "outputs": [],
   "source": [
    "i=indicators[1]\n",
    "data1=get_data(i,countries)"
   ]
  },
  {
   "cell_type": "code",
   "execution_count": 6,
   "metadata": {},
   "outputs": [],
   "source": [
    "i=indicators[0]\n",
    "data2=get_data(i,countries)"
   ]
  },
  {
   "cell_type": "code",
   "execution_count": null,
   "metadata": {},
   "outputs": [],
   "source": [
    "\n",
    "p=1\n",
    "d=0\n",
    "q=list(range(1,5))\n",
    "\n",
    "resultado=get_df(data1,p,d,q)\n",
    "resultado=resultado.merge(country_codes[['name','alpha-2','sub-region']], how='inner',left_on=['country'],right_on=['alpha-2'])\n",
    "resultado.drop(labels='country',axis=1,inplace=True)\n",
    "resultado.to_csv('data/mortality_errors.csv', index=False)"
   ]
  },
  {
   "cell_type": "code",
   "execution_count": null,
   "metadata": {},
   "outputs": [],
   "source": [
    "\n",
    "p=1\n",
    "d=0\n",
    "q=list(range(1,5))\n",
    "\n",
    "resultado=get_df(data2,p,d,q)\n",
    "resultado=resultado.merge(country_codes[['name','alpha-2','sub-region']], how='inner',left_on=['country'],right_on=['alpha-2'])\n",
    "resultado.drop(labels='country',axis=1,inplace=True)\n",
    "resultado.to_csv('data/natality_errors.csv', index=False)"
   ]
  },
  {
   "cell_type": "code",
   "execution_count": 10,
   "metadata": {},
   "outputs": [],
   "source": [
    "mortality_errors=pd.read_csv('data/mortality_errors.csv')\n",
    "natality_errors=pd.read_csv('data/natality_errors.csv')\n",
    "mortality_errors.rename(columns = {'error2020':'error2020m', 'error2015_2019':'error2015_2019m'}, inplace = True)\n",
    "natality_errors.rename(columns = {'error2020':'error2020n', 'error2015_2019':'error2015_2019n'}, inplace = True)\n",
    "mortality_natality=mortality_errors.merge(natality_errors, how='inner',on=['name','sub-region','alpha-2'])\n",
    "mortality_natality[['name','alpha-2','sub-region', 'error2015_2019m','error2020m','error2020n', 'error2015_2019n']].to_csv('data/mortality_natality.csv')"
   ]
  },
  {
   "cell_type": "code",
   "execution_count": null,
   "metadata": {},
   "outputs": [],
   "source": []
  }
 ],
 "metadata": {
  "interpreter": {
   "hash": "c9f14bb629f036ea0aa6da563ab7059bf83822ae3a647bfaa85551ac6c781714"
  },
  "kernelspec": {
   "display_name": "Python 3.9.12 ('clase1')",
   "language": "python",
   "name": "python3"
  },
  "language_info": {
   "codemirror_mode": {
    "name": "ipython",
    "version": 3
   },
   "file_extension": ".py",
   "mimetype": "text/x-python",
   "name": "python",
   "nbconvert_exporter": "python",
   "pygments_lexer": "ipython3",
   "version": "3.9.12"
  },
  "orig_nbformat": 4
 },
 "nbformat": 4,
 "nbformat_minor": 2
}
